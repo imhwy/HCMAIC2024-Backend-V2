{
 "cells": [
  {
   "cell_type": "code",
   "execution_count": 1,
   "metadata": {},
   "outputs": [],
   "source": [
    "from src.services.service import Service"
   ]
  },
  {
   "cell_type": "code",
   "execution_count": 2,
   "metadata": {},
   "outputs": [
    {
     "name": "stderr",
     "output_type": "stream",
     "text": [
      "c:\\Users\\Admin\\anaconda3\\Lib\\site-packages\\huggingface_hub\\file_download.py:1150: FutureWarning: `resume_download` is deprecated and will be removed in version 1.0.0. Downloads always resume when possible. If you want to force a new download, use `force_download=True`.\n",
      "  warnings.warn(\n"
     ]
    }
   ],
   "source": [
    "service = Service()"
   ]
  },
  {
   "cell_type": "code",
   "execution_count": 3,
   "metadata": {},
   "outputs": [],
   "source": [
    "result = await service.clip_retrieval.text_retrieval(model_type=\"original_clip\", text=\"Workers are processing dried shrimp, behind is a blue barrel\")"
   ]
  },
  {
   "cell_type": "code",
   "execution_count": 4,
   "metadata": {},
   "outputs": [
    {
     "name": "stdout",
     "output_type": "stream",
     "text": [
      "500\n"
     ]
    }
   ],
   "source": [
    "print(len(result))"
   ]
  },
  {
   "cell_type": "code",
   "execution_count": 1,
   "metadata": {},
   "outputs": [
    {
     "name": "stdout",
     "output_type": "stream",
     "text": [
      "File bị thiếu trong folder2: {'L01_V031.json'}\n",
      "Không có file nào bị thiếu trong folder1.\n"
     ]
    }
   ],
   "source": [
    "import os\n",
    "\n",
    "# Đường dẫn tới hai thư mục chứa file JSON\n",
    "folder1 = 'D:/UIT/AIC2024/asr'\n",
    "folder2 = 'D:/UIT/AIC2024/latent/data_patch_1'\n",
    "\n",
    "# Lấy danh sách tên file trong hai thư mục\n",
    "files_in_folder1 = set(os.listdir(folder1))\n",
    "files_in_folder2 = set(os.listdir(folder2))\n",
    "\n",
    "# Tìm file bị thiếu trong folder2\n",
    "missing_in_folder2 = files_in_folder1 - files_in_folder2\n",
    "\n",
    "# Tìm file bị thiếu trong folder1\n",
    "missing_in_folder1 = files_in_folder2 - files_in_folder1\n",
    "\n",
    "# Kết quả\n",
    "if missing_in_folder2:\n",
    "    print(\"File bị thiếu trong folder2:\", missing_in_folder2)\n",
    "else:\n",
    "    print(\"Không có file nào bị thiếu trong folder2.\")\n",
    "\n",
    "if missing_in_folder1:\n",
    "    print(\"File bị thiếu trong folder1:\", missing_in_folder1)\n",
    "else:\n",
    "    print(\"Không có file nào bị thiếu trong folder1.\")\n"
   ]
  }
 ],
 "metadata": {
  "kernelspec": {
   "display_name": "base",
   "language": "python",
   "name": "python3"
  },
  "language_info": {
   "codemirror_mode": {
    "name": "ipython",
    "version": 3
   },
   "file_extension": ".py",
   "mimetype": "text/x-python",
   "name": "python",
   "nbconvert_exporter": "python",
   "pygments_lexer": "ipython3",
   "version": "3.11.7"
  }
 },
 "nbformat": 4,
 "nbformat_minor": 2
}
